{
 "cells": [
  {
   "cell_type": "markdown",
   "metadata": {},
   "source": [
    "### GUI Time Break Clock."
   ]
  },
  {
   "cell_type": "code",
   "execution_count": 1,
   "metadata": {},
   "outputs": [],
   "source": [
    "from tkinter import *\n",
    "\n",
    "import random\n",
    "import time\n",
    "\n",
    "#sec = 0\n",
    "root = Tk()\n",
    "\n",
    "\n",
    "def start_time():\n",
    "    global sec , lb\n",
    "    try:\n",
    "        c1 = '#'+''.join(random.choices('abcdef0123456789',k=6))\n",
    "        c2 = '#'+''.join(random.choices('abcdef0123456789',k=6))\n",
    "        \n",
    "        sec = int(ent.get())\n",
    "        ent.destroy()\n",
    "        \n",
    "    \n",
    "    except:\n",
    "        lb.config(text=sec,fg=c1,bg=c2)\n",
    "        sec = sec-1\n",
    "        btn.config(text='Stop',command=root.destroy)\n",
    "        \n",
    "        if sec == -1:\n",
    "            root.destroy()\n",
    "            \n",
    "        else:\n",
    "            lb.after(1000,start_time)\n",
    "            \n",
    "    else:\n",
    "        lb = Label(root,text=sec ,font=('Times',50,'bold'))\n",
    "        lb.pack()\n",
    "        sec = sec-1\n",
    "        btn.config(text='Stop',command=root.destroy)\n",
    "        \n",
    "        if sec == -1:\n",
    "            root.destroy()\n",
    "        \n",
    "        else:\n",
    "            lb.after(1000,start_time)\n",
    "\n",
    "   \n",
    "        \n",
    "ent = Entry(root,width = 30 , font=('Times',20,'bold'))\n",
    "ent.pack()\n",
    "\n",
    "lb = Label(root,font=('Times',50,'bold'))\n",
    "lb.pack()\n",
    "\n",
    "btn = Button(root,height=2,width=20,text='Start',bg='black',fg='white',command=start_time)\n",
    "btn.pack(pady = 20)\n",
    "\n",
    "\n",
    "root.mainloop()"
   ]
  },
  {
   "cell_type": "code",
   "execution_count": null,
   "metadata": {},
   "outputs": [],
   "source": []
  }
 ],
 "metadata": {
  "kernelspec": {
   "display_name": "Python 3",
   "language": "python",
   "name": "python3"
  },
  "language_info": {
   "codemirror_mode": {
    "name": "ipython",
    "version": 3
   },
   "file_extension": ".py",
   "mimetype": "text/x-python",
   "name": "python",
   "nbconvert_exporter": "python",
   "pygments_lexer": "ipython3",
   "version": "3.8.5"
  }
 },
 "nbformat": 4,
 "nbformat_minor": 4
}
